{
 "cells": [
  {
   "cell_type": "code",
   "execution_count": null,
   "metadata": {
    "collapsed": true,
    "pycharm": {
     "name": "#%%\n"
    }
   },
   "outputs": [],
   "source": [
    "import pandas as pd\n",
    "import lightgbm as lgb\n",
    "import numpy as np\n",
    "import matplotlib.pyplot as plt\n",
    "from pathlib import Path\n",
    "from sklearn.decomposition import PCA\n",
    "from sklearn.preprocessing import StandardScaler\n",
    "\n",
    "GREEKS_PATH = Path('data_/greeks.csv')\n",
    "SAMPLE_SUBMISSION_PATH = Path('data_/sample_submission.csv')\n",
    "TEST_PATH = Path('data_/test.csv')\n",
    "TRAIN_PATH = Path('data_/train.csv')\n",
    "train = pd.read_csv(TRAIN_PATH)\n",
    "test = pd.read_csv(TEST_PATH)\n",
    "greeks = pd.read_csv(GREEKS_PATH)\n",
    "FEATURES = [col for col in train.columns if col != 'Id' and col != 'Class']\n",
    "train['EJ'] = train['EJ'].map(dict((v, k) for k, v in enumerate(train['EJ'].unique())))\n",
    "test['EJ'] = test['EJ'].map(dict((v, k) for k, v in enumerate(test['EJ'].unique())))\n",
    "train_dataset = lgb.Dataset(train.drop(['Id', 'Class'], axis=1), train['Class'],\n",
    "                            feature_name=train.drop(['Id', 'Class'], axis=1).columns.tolist())\n",
    "\n",
    "x = train.loc[:, FEATURES].values\n",
    "x = StandardScaler().fit_transform(x)\n",
    "\n",
    "x_ = test.loc[:, FEATURES].values\n",
    "x_ = StandardScaler().fit_transform(x_)\n",
    "train_normalized = pd.DataFrame(x, columns=FEATURES)\n",
    "train_normalized.fillna(train_normalized.mean(), inplace=True)\n",
    "\n",
    "test_normalized = pd.DataFrame(x_, columns=FEATURES)\n",
    "test_normalized.fillna(test_normalized.mean(), inplace=True)\n",
    "pca = PCA(n_components=2)\n",
    "\n",
    "train_normalized_pca = pca.fit_transform(train_normalized)\n",
    "test_normalized_pca = pca.fit_transform(test_normalized)\n",
    "plt.scatter(train_normalized_pca[0], train_normalized_pca[1], colors=train['Class'])"
   ]
  }
 ],
 "metadata": {
  "kernelspec": {
   "display_name": "Python 3",
   "language": "python",
   "name": "python3"
  },
  "language_info": {
   "codemirror_mode": {
    "name": "ipython",
    "version": 2
   },
   "file_extension": ".py",
   "mimetype": "text/x-python",
   "name": "python",
   "nbconvert_exporter": "python",
   "pygments_lexer": "ipython2",
   "version": "2.7.6"
  }
 },
 "nbformat": 4,
 "nbformat_minor": 0
}